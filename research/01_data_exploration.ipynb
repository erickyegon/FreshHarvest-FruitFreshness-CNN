{
 "cells": [
  {
   "cell_type": "markdown",
   "metadata": {},
   "source": [
    "# FreshHarvest Data Exploration\n",
    "## Fruit Freshness Classification Dataset Analysis\n",
    "\n",
    "This notebook explores the FreshHarvest dataset for fruit freshness classification.\n",
    "The dataset contains images of 8 different fruits in fresh and spoiled conditions."
   ]
  },
  {
   "cell_type": "code",
   "execution_count": null,
   "metadata": {},
   "source": [
    "import os\n",
    "import numpy as np\n",
    "import pandas as pd\n",
    "import matplotlib.pyplot as plt\n",
    "import seaborn as sns\n",
    "from PIL import Image\n",
    "import cv2\n",
    "from pathlib import Path\n",
    "import yaml\n",
    "from collections import Counter\n",
    "import warnings\n",
    "warnings.filterwarnings('ignore')\n",
    "\n",
    "# Set style\n",
    "plt.style.use('seaborn-v0_8')\n",
    "sns.set_palette(\"husl\")\n",
    "\n",
    "print(\"Libraries imported successfully!\")"
   ],
   "outputs": []
  },
  {
   "cell_type": "markdown",
   "metadata": {},
   "source": [
    "## 1. Dataset Structure Analysis"
   ]
  },
  {
   "cell_type": "code",
   "execution_count": null,
   "metadata": {},
   "source": [
    "# Load configuration\n",
    "with open('../config/config.yaml', 'r') as file:\n",
    "    config = yaml.safe_load(file)\n",
    "\n",
    "# Dataset path\n",
    "data_path = Path('../data')\n",
    "print(f\"Dataset path: {data_path}\")\n",
    "print(f\"Dataset exists: {data_path.exists()}\")\n",
    "\n",
    "# List all directories\n",
    "if data_path.exists():\n",
    "    class_dirs = [d for d in data_path.iterdir() if d.is_dir()]\n",
    "    print(f\"\\nFound {len(class_dirs)} class directories:\")\n",
    "    for class_dir in sorted(class_dirs):\n",
    "        print(f\"  - {class_dir.name}\")\n",
    "else:\n",
    "    print(\"Dataset path does not exist!\")"
   ],
   "outputs": []
  },
  {
   "cell_type": "code",
   "execution_count": null,
   "metadata": {},
   "source": [
    "# Count images per class\n",
    "class_counts = {}\n",
    "total_images = 0\n",
    "\n",
    "for class_dir in sorted(class_dirs):\n",
    "    image_files = list(class_dir.glob('*.jpg')) + list(class_dir.glob('*.png'))\n",
    "    count = len(image_files)\n",
    "    class_counts[class_dir.name] = count\n",
    "    total_images += count\n",
    "    print(f\"{class_dir.name}: {count} images\")\n",
    "\n",
    "print(f\"\\nTotal images: {total_images}\")\n",
    "print(f\"Average images per class: {total_images / len(class_dirs):.1f}\")"
   ],
   "outputs": []
  },
  {
   "cell_type": "markdown",
   "metadata": {},
   "source": [
    "## 2. Data Distribution Visualization"
   ]
  },
  {
   "cell_type": "code",
   "execution_count": null,
   "metadata": {},
   "source": [
    "# Create DataFrame for visualization\n",
    "df_counts = pd.DataFrame(list(class_counts.items()), columns=['Class', 'Count'])\n",
    "df_counts['Fruit'] = df_counts['Class'].str[2:]  # Remove F_ or S_ prefix\n",
    "df_counts['Condition'] = df_counts['Class'].str[0].map({'F': 'Fresh', 'S': 'Spoiled'})\n",
    "\n",
    "print(\"Dataset Distribution:\")\n",
    "print(df_counts)\n",
    "\n",
    "# Plot class distribution\n",
    "plt.figure(figsize=(15, 10))\n",
    "\n",
    "# Subplot 1: Overall class distribution\n",
    "plt.subplot(2, 2, 1)\n",
    "plt.bar(df_counts['Class'], df_counts['Count'], color='skyblue')\n",
    "plt.title('Images per Class')\n",
    "plt.xlabel('Class')\n",
    "plt.ylabel('Number of Images')\n",
    "plt.xticks(rotation=45)\n",
    "\n",
    "# Subplot 2: Fresh vs Spoiled distribution\n",
    "plt.subplot(2, 2, 2)\n",
    "condition_counts = df_counts.groupby('Condition')['Count'].sum()\n",
    "plt.pie(condition_counts.values, labels=condition_counts.index, autopct='%1.1f%%', \n",
    "        colors=['lightgreen', 'lightcoral'])\n",
    "plt.title('Fresh vs Spoiled Distribution')\n",
    "\n",
    "# Subplot 3: Fruit type distribution\n",
    "plt.subplot(2, 2, 3)\n",
    "fruit_counts = df_counts.groupby('Fruit')['Count'].sum()\n",
    "plt.bar(fruit_counts.index, fruit_counts.values, color='orange')\n",
    "plt.title('Images per Fruit Type')\n",
    "plt.xlabel('Fruit Type')\n",
    "plt.ylabel('Number of Images')\n",
    "plt.xticks(rotation=45)\n",
    "\n",
    "# Subplot 4: Heatmap of fruit vs condition\n",
    "plt.subplot(2, 2, 4)\n",
    "pivot_df = df_counts.pivot(index='Fruit', columns='Condition', values='Count')\n",
    "sns.heatmap(pivot_df, annot=True, fmt='d', cmap='Blues')\n",
    "plt.title('Fruit Type vs Condition Heatmap')\n",
    "\n",
    "plt.tight_layout()\n",
    "plt.show()"
   ],
   "outputs": []
  },
  {
   "cell_type": "markdown",
   "metadata": {},
   "source": [
    "## 3. Sample Image Visualization"
   ]
  },
  {
   "cell_type": "code",
   "execution_count": null,
   "metadata": {},
   "source": [
    "# Function to display sample images\n",
    "def display_sample_images(class_dirs, samples_per_class=2):\n",
    "    fig, axes = plt.subplots(len(class_dirs), samples_per_class, \n",
    "                            figsize=(samples_per_class * 3, len(class_dirs) * 2))\n",
    "    \n",
    "    for i, class_dir in enumerate(sorted(class_dirs)):\n",
    "        image_files = list(class_dir.glob('*.jpg')) + list(class_dir.glob('*.png'))\n",
    "        \n",
    "        for j in range(min(samples_per_class, len(image_files))):\n",
    "            img_path = image_files[j]\n",
    "            img = Image.open(img_path)\n",
    "            \n",
    "            if len(class_dirs) == 1:\n",
    "                ax = axes[j]\n",
    "            else:\n",
    "                ax = axes[i, j] if samples_per_class > 1 else axes[i]\n",
    "            \n",
    "            ax.imshow(img)\n",
    "            ax.set_title(f'{class_dir.name}\\n{img.size}')\n",
    "            ax.axis('off')\n",
    "    \n",
    "    plt.tight_layout()\n",
    "    plt.show()\n",
    "\n",
    "# Display sample images (first 8 classes to avoid overcrowding)\n",
    "sample_classes = class_dirs[:8]\n",
    "display_sample_images(sample_classes, samples_per_class=3)"
   ],
   "outputs": []
  },
  {
   "cell_type": "markdown",
   "metadata": {},
   "source": [
    "## 4. Image Properties Analysis"
   ]
  },
  {
   "cell_type": "code",
   "execution_count": null,
   "metadata": {},
   "source": [
    "# Analyze image properties\n",
    "def analyze_image_properties(class_dirs, sample_size=100):\n",
    "    properties = []\n",
    "    \n",
    "    for class_dir in class_dirs:\n",
    "        image_files = list(class_dir.glob('*.jpg')) + list(class_dir.glob('*.png'))\n",
    "        \n",
    "        # Sample random images\n",
    "        sample_files = np.random.choice(image_files, \n",
    "                                      min(sample_size, len(image_files)), \n",
    "                                      replace=False)\n",
    "        \n",
    "        for img_path in sample_files:\n",
    "            try:\n",
    "                img = Image.open(img_path)\n",
    "                properties.append({\n",
    "                    'class': class_dir.name,\n",
    "                    'width': img.size[0],\n",
    "                    'height': img.size[1],\n",
    "                    'mode': img.mode,\n",
    "                    'file_size': img_path.stat().st_size\n",
    "                })\n",
    "            except Exception as e:\n",
    "                print(f\"Error processing {img_path}: {e}\")\n",
    "    \n",
    "    return pd.DataFrame(properties)\n",
    "\n",
    "# Analyze properties\n",
    "props_df = analyze_image_properties(class_dirs, sample_size=50)\n",
    "print(\"Image Properties Summary:\")\n",
    "print(props_df.describe())\n",
    "\n",
    "# Visualize image dimensions\n",
    "plt.figure(figsize=(15, 5))\n",
    "\n",
    "plt.subplot(1, 3, 1)\n",
    "plt.hist(props_df['width'], bins=30, alpha=0.7, color='blue')\n",
    "plt.title('Image Width Distribution')\n",
    "plt.xlabel('Width (pixels)')\n",
    "plt.ylabel('Frequency')\n",
    "\n",
    "plt.subplot(1, 3, 2)\n",
    "plt.hist(props_df['height'], bins=30, alpha=0.7, color='green')\n",
    "plt.title('Image Height Distribution')\n",
    "plt.xlabel('Height (pixels)')\n",
    "plt.ylabel('Frequency')\n",
    "\n",
    "plt.subplot(1, 3, 3)\n",
    "plt.scatter(props_df['width'], props_df['height'], alpha=0.6)\n",
    "plt.title('Width vs Height Scatter')\n",
    "plt.xlabel('Width (pixels)')\n",
    "plt.ylabel('Height (pixels)')\n",
    "\n",
    "plt.tight_layout()\n",
    "plt.show()"
   ],
   "outputs": []
  }
 ],
 "metadata": {
  "kernelspec": {
   "display_name": "Python 3",
   "language": "python",
   "name": "python3"
  },
  "language_info": {
   "codemirror_mode": {
    "name": "ipython",
    "version": 3
   },
   "file_extension": ".py",
   "name": "python",
   "nbconvert_exporter": "python",
   "pygments_lexer": "ipython3",
   "version": "3.10.0"
  }
 },
 "nbformat": 4,
 "nbformat_minor": 4
}